{
 "cells": [
  {
   "cell_type": "markdown",
   "id": "f769dc78",
   "metadata": {},
   "source": [
    "<span style='color:Blue'> \n",
    "\n",
    "**<font size=\"6\">Exercises - Data Science Sprint 09 - M09 T01</font>**\n",
    "\n",
    "**Sentiment Analysis**</span>\n",
    "\n",
    "\n"
   ]
  },
  {
   "cell_type": "markdown",
   "id": "21538a9c",
   "metadata": {},
   "source": [
    "## Exercise 1: Word frequency calculation\n",
    "    \n",
    "From any english text, calculate the word frequency"
   ]
  },
  {
   "cell_type": "markdown",
   "id": "835143ba",
   "metadata": {
    "ExecuteTime": {
     "end_time": "2023-01-18T09:47:23.879890Z",
     "start_time": "2023-01-18T09:47:23.867859Z"
    }
   },
   "source": [
    "### Text Analysis Operations using NLTK"
   ]
  },
  {
   "cell_type": "code",
   "execution_count": 1,
   "id": "4fbdcca8",
   "metadata": {
    "ExecuteTime": {
     "end_time": "2023-01-30T19:21:13.114361Z",
     "start_time": "2023-01-30T19:21:12.364909Z"
    }
   },
   "outputs": [],
   "source": [
    "#Loading NLTK library\n",
    "import nltk\n",
    "from nltk.tokenize import sent_tokenize"
   ]
  },
  {
   "cell_type": "code",
   "execution_count": 2,
   "id": "0b2d4b47",
   "metadata": {
    "ExecuteTime": {
     "end_time": "2023-01-30T19:21:13.129318Z",
     "start_time": "2023-01-30T19:21:13.115358Z"
    },
    "scrolled": true
   },
   "outputs": [
    {
     "name": "stdout",
     "output_type": "stream",
     "text": [
      "ChatGPT passes exams from law and business schoolsChatGPT is smart enough to pass prestigious graduate-level exams -- though not with particularly high marks.By Samantha Murphy KellyUpdated Jan. 26, 2023 06:35 PMVer originalCNN  — ChatGPT is smart enough to pass prestigious graduate-level exams – though not with particularly high marks.The powerful new AI chatbot tool recently passed law exams in four courses at the University of Minnesota and another exam at University of Pennsylvania’s Wharton School of Business, according to professors at the schools.To test how well ChatGPT could generate answers on exams for the four courses, professors at the University of Minnesota Law School recently graded the tests blindly. After completing 95 multiple choice questions and 12 essay questions, the bot performed on average at the level of a C+ student, achieving a low but passing grade in all four courses.ChatGPT fared better during a business management course exam at Wharton, where it earned a B to B- grade. In a paper detailing the performance, Christian Terwiesch, a Wharton business professor, said ChatGPT did “an amazing job” at answering basic operations management and process-analysis questions but struggled with more advanced prompts and made “surprising mistakes” with basic math.“These mistakes can be massive in magnitude,” he wrote.The test results come as a growing number of schools and teachers express concerns about the immediate impact of ChatGPT on students and their ability to cheat on assignments. Some educators are now moving with remarkable speed to rethink their assignments in response to ChatGPT, even as it remains unclear how widespread use is of the tool among students and how harmful it could really be to learning.Jake AuchinclossCongressman gives speech written by AI02:49 - Source: CNNSince it was made available in late November, ChatGPT has been used to generate original essays, stories and song lyrics in response to user prompts. It has drafted research paper abstracts that fooled some scientists. Some CEOs have even used it to write emails or do accounting work.ChatGPT is trained on vast amounts of online data in order to generate responses to user prompts. While it has gained traction among users, it has also raised some concerns, including about inaccuracies and its potential to perpetuate biases and spread misinformation.Jon Choi, one of the University of Minnesota law professors, told CNN the goal of the tests was to explore ChatGPT’s potential to assist lawyers in their practice and to help students in exams, whether or not it’s permitted by their professors, because the questions often mimic the writing lawyers do in real life.“ChatGPT struggled with the most classic components of law school exams, such as spotting potential legal issues and deep analysis applying legal rules to the facts of a case,” Choi said. “But ChatGPT could be very helpful at producing a first draft that a student could then refine.”He argues human-AI collaboration is the most promising use case for ChatGPT and similar technology.“My strong hunch is that AI assistants will become standard tools for lawyers in the near future, and law schools should prepare their students for that eventuality,” he said. “Of course, if law professors want to continue to test simple recall of legal rules and doctrines, they’ll need to put restrictions in place like banning the internet during exams to enforce that.”Likewise, Wharton’s Terwiesch found the chatbot was “remarkably good” at modifying its answers in response to human hints, such as reworking answers after pointing out an error, suggesting the potential for people to work together with AI.scott galloway vpxScott Galloway on the 'scarier part' of AI tools like ChatGPT02:07 - Source: CNNIn the short-term, however, discomfort remains with whether and how students should use ChatGPT. Public schools in New York City and Seattle, for example, have already banned students and teachers from using ChatGPT on the district’s networks and devices.Considering ChatGPT performed above average on his exam, Terwiesch told CNN he agrees restrictions should be put in place for students while they’re taking tests.“Bans are needed,” he said. “After all, when you give a medical doctor a degree, you want them to know medicine, not how to use a bot. The same holds for other skill certification, including law and business.”But Terwiesch believes this technology still ultimately has a place in the classroom. “If all we end up with is the same educational system as before, we have wasted an amazing opportunity that comes with ChatGPT,” he said.\n"
     ]
    }
   ],
   "source": [
    "# Let's read a file txt call \"CNN-ChatGPT passes exams from law and business schools.txt\". \n",
    "# This txt file has been extracted from CNN web page \"https://edition.cnn.com/2023/01/26/tech/chatgpt-passes-exams/index.html\"\n",
    "\n",
    "# Read the file, and replace all \"\\n\" with '' (blank)\n",
    "with open('CNN-ChatGPT passes exams from law and business schools.txt','r') as file:\n",
    "    text = file.read().replace('\\n', '')\n",
    "print(text)"
   ]
  },
  {
   "cell_type": "markdown",
   "id": "61702647",
   "metadata": {},
   "source": [
    "### Sentence Tokenization"
   ]
  },
  {
   "cell_type": "code",
   "execution_count": 3,
   "id": "f92ae979",
   "metadata": {
    "ExecuteTime": {
     "end_time": "2023-01-30T19:21:13.145266Z",
     "start_time": "2023-01-30T19:21:13.130308Z"
    },
    "scrolled": true
   },
   "outputs": [
    {
     "name": "stdout",
     "output_type": "stream",
     "text": [
      "['ChatGPT passes exams from law and business schoolsChatGPT is smart enough to pass prestigious graduate-level exams -- though not with particularly high marks.By Samantha Murphy KellyUpdated Jan. 26, 2023 06:35 PMVer originalCNN  — ChatGPT is smart enough to pass prestigious graduate-level exams – though not with particularly high marks.The powerful new AI chatbot tool recently passed law exams in four courses at the University of Minnesota and another exam at University of Pennsylvania’s Wharton School of Business, according to professors at the schools.To test how well ChatGPT could generate answers on exams for the four courses, professors at the University of Minnesota Law School recently graded the tests blindly.', 'After completing 95 multiple choice questions and 12 essay questions, the bot performed on average at the level of a C+ student, achieving a low but passing grade in all four courses.ChatGPT fared better during a business management course exam at Wharton, where it earned a B to B- grade.', 'In a paper detailing the performance, Christian Terwiesch, a Wharton business professor, said ChatGPT did “an amazing job” at answering basic operations management and process-analysis questions but struggled with more advanced prompts and made “surprising mistakes” with basic math.“These mistakes can be massive in magnitude,” he wrote.The test results come as a growing number of schools and teachers express concerns about the immediate impact of ChatGPT on students and their ability to cheat on assignments.', 'Some educators are now moving with remarkable speed to rethink their assignments in response to ChatGPT, even as it remains unclear how widespread use is of the tool among students and how harmful it could really be to learning.Jake AuchinclossCongressman gives speech written by AI02:49 - Source: CNNSince it was made available in late November, ChatGPT has been used to generate original essays, stories and song lyrics in response to user prompts.', 'It has drafted research paper abstracts that fooled some scientists.', 'Some CEOs have even used it to write emails or do accounting work.ChatGPT is trained on vast amounts of online data in order to generate responses to user prompts.', 'While it has gained traction among users, it has also raised some concerns, including about inaccuracies and its potential to perpetuate biases and spread misinformation.Jon Choi, one of the University of Minnesota law professors, told CNN the goal of the tests was to explore ChatGPT’s potential to assist lawyers in their practice and to help students in exams, whether or not it’s permitted by their professors, because the questions often mimic the writing lawyers do in real life.“ChatGPT struggled with the most classic components of law school exams, such as spotting potential legal issues and deep analysis applying legal rules to the facts of a case,” Choi said.', '“But ChatGPT could be very helpful at producing a first draft that a student could then refine.”He argues human-AI collaboration is the most promising use case for ChatGPT and similar technology.“My strong hunch is that AI assistants will become standard tools for lawyers in the near future, and law schools should prepare their students for that eventuality,” he said.', \"“Of course, if law professors want to continue to test simple recall of legal rules and doctrines, they’ll need to put restrictions in place like banning the internet during exams to enforce that.”Likewise, Wharton’s Terwiesch found the chatbot was “remarkably good” at modifying its answers in response to human hints, such as reworking answers after pointing out an error, suggesting the potential for people to work together with AI.scott galloway vpxScott Galloway on the 'scarier part' of AI tools like ChatGPT02:07 - Source: CNNIn the short-term, however, discomfort remains with whether and how students should use ChatGPT.\", 'Public schools in New York City and Seattle, for example, have already banned students and teachers from using ChatGPT on the district’s networks and devices.Considering ChatGPT performed above average on his exam, Terwiesch told CNN he agrees restrictions should be put in place for students while they’re taking tests.“Bans are needed,” he said.', '“After all, when you give a medical doctor a degree, you want them to know medicine, not how to use a bot.', 'The same holds for other skill certification, including law and business.”But Terwiesch believes this technology still ultimately has a place in the classroom.', '“If all we end up with is the same educational system as before, we have wasted an amazing opportunity that comes with ChatGPT,” he said.']\n"
     ]
    }
   ],
   "source": [
    "tokenized_text=sent_tokenize(text)\n",
    "print(tokenized_text)"
   ]
  },
  {
   "cell_type": "code",
   "execution_count": 4,
   "id": "a003c522",
   "metadata": {
    "ExecuteTime": {
     "end_time": "2023-01-30T19:21:13.161204Z",
     "start_time": "2023-01-30T19:21:13.147251Z"
    }
   },
   "outputs": [
    {
     "name": "stdout",
     "output_type": "stream",
     "text": [
      "13\n"
     ]
    }
   ],
   "source": [
    "print(len(tokenized_text))"
   ]
  },
  {
   "cell_type": "markdown",
   "id": "38388b9f",
   "metadata": {},
   "source": [
    "### Word Tokenization"
   ]
  },
  {
   "cell_type": "code",
   "execution_count": 5,
   "id": "265cc8bf",
   "metadata": {
    "ExecuteTime": {
     "end_time": "2023-01-30T19:21:13.177153Z",
     "start_time": "2023-01-30T19:21:13.162202Z"
    },
    "scrolled": false
   },
   "outputs": [
    {
     "name": "stdout",
     "output_type": "stream",
     "text": [
      "['ChatGPT', 'passes', 'exams', 'from', 'law', 'and', 'business', 'schoolsChatGPT', 'is', 'smart', 'enough', 'to', 'pass', 'prestigious', 'graduate-level', 'exams', '--', 'though', 'not', 'with', 'particularly', 'high', 'marks.By', 'Samantha', 'Murphy', 'KellyUpdated', 'Jan.', '26', ',', '2023', '06:35', 'PMVer', 'originalCNN', '—', 'ChatGPT', 'is', 'smart', 'enough', 'to', 'pass', 'prestigious', 'graduate-level', 'exams', '–', 'though', 'not', 'with', 'particularly', 'high', 'marks.The', 'powerful', 'new', 'AI', 'chatbot', 'tool', 'recently', 'passed', 'law', 'exams', 'in', 'four', 'courses', 'at', 'the', 'University', 'of', 'Minnesota', 'and', 'another', 'exam', 'at', 'University', 'of', 'Pennsylvania', '’', 's', 'Wharton', 'School', 'of', 'Business', ',', 'according', 'to', 'professors', 'at', 'the', 'schools.To', 'test', 'how', 'well', 'ChatGPT', 'could', 'generate', 'answers', 'on', 'exams', 'for', 'the', 'four', 'courses', ',', 'professors', 'at', 'the', 'University', 'of', 'Minnesota', 'Law', 'School', 'recently', 'graded', 'the', 'tests', 'blindly', '.', 'After', 'completing', '95', 'multiple', 'choice', 'questions', 'and', '12', 'essay', 'questions', ',', 'the', 'bot', 'performed', 'on', 'average', 'at', 'the', 'level', 'of', 'a', 'C+', 'student', ',', 'achieving', 'a', 'low', 'but', 'passing', 'grade', 'in', 'all', 'four', 'courses.ChatGPT', 'fared', 'better', 'during', 'a', 'business', 'management', 'course', 'exam', 'at', 'Wharton', ',', 'where', 'it', 'earned', 'a', 'B', 'to', 'B-', 'grade', '.', 'In', 'a', 'paper', 'detailing', 'the', 'performance', ',', 'Christian', 'Terwiesch', ',', 'a', 'Wharton', 'business', 'professor', ',', 'said', 'ChatGPT', 'did', '“', 'an', 'amazing', 'job', '”', 'at', 'answering', 'basic', 'operations', 'management', 'and', 'process-analysis', 'questions', 'but', 'struggled', 'with', 'more', 'advanced', 'prompts', 'and', 'made', '“', 'surprising', 'mistakes', '”', 'with', 'basic', 'math.', '“', 'These', 'mistakes', 'can', 'be', 'massive', 'in', 'magnitude', ',', '”', 'he', 'wrote.The', 'test', 'results', 'come', 'as', 'a', 'growing', 'number', 'of', 'schools', 'and', 'teachers', 'express', 'concerns', 'about', 'the', 'immediate', 'impact', 'of', 'ChatGPT', 'on', 'students', 'and', 'their', 'ability', 'to', 'cheat', 'on', 'assignments', '.', 'Some', 'educators', 'are', 'now', 'moving', 'with', 'remarkable', 'speed', 'to', 'rethink', 'their', 'assignments', 'in', 'response', 'to', 'ChatGPT', ',', 'even', 'as', 'it', 'remains', 'unclear', 'how', 'widespread', 'use', 'is', 'of', 'the', 'tool', 'among', 'students', 'and', 'how', 'harmful', 'it', 'could', 'really', 'be', 'to', 'learning.Jake', 'AuchinclossCongressman', 'gives', 'speech', 'written', 'by', 'AI02:49', '-', 'Source', ':', 'CNNSince', 'it', 'was', 'made', 'available', 'in', 'late', 'November', ',', 'ChatGPT', 'has', 'been', 'used', 'to', 'generate', 'original', 'essays', ',', 'stories', 'and', 'song', 'lyrics', 'in', 'response', 'to', 'user', 'prompts', '.', 'It', 'has', 'drafted', 'research', 'paper', 'abstracts', 'that', 'fooled', 'some', 'scientists', '.', 'Some', 'CEOs', 'have', 'even', 'used', 'it', 'to', 'write', 'emails', 'or', 'do', 'accounting', 'work.ChatGPT', 'is', 'trained', 'on', 'vast', 'amounts', 'of', 'online', 'data', 'in', 'order', 'to', 'generate', 'responses', 'to', 'user', 'prompts', '.', 'While', 'it', 'has', 'gained', 'traction', 'among', 'users', ',', 'it', 'has', 'also', 'raised', 'some', 'concerns', ',', 'including', 'about', 'inaccuracies', 'and', 'its', 'potential', 'to', 'perpetuate', 'biases', 'and', 'spread', 'misinformation.Jon', 'Choi', ',', 'one', 'of', 'the', 'University', 'of', 'Minnesota', 'law', 'professors', ',', 'told', 'CNN', 'the', 'goal', 'of', 'the', 'tests', 'was', 'to', 'explore', 'ChatGPT', '’', 's', 'potential', 'to', 'assist', 'lawyers', 'in', 'their', 'practice', 'and', 'to', 'help', 'students', 'in', 'exams', ',', 'whether', 'or', 'not', 'it', '’', 's', 'permitted', 'by', 'their', 'professors', ',', 'because', 'the', 'questions', 'often', 'mimic', 'the', 'writing', 'lawyers', 'do', 'in', 'real', 'life.', '“', 'ChatGPT', 'struggled', 'with', 'the', 'most', 'classic', 'components', 'of', 'law', 'school', 'exams', ',', 'such', 'as', 'spotting', 'potential', 'legal', 'issues', 'and', 'deep', 'analysis', 'applying', 'legal', 'rules', 'to', 'the', 'facts', 'of', 'a', 'case', ',', '”', 'Choi', 'said', '.', '“', 'But', 'ChatGPT', 'could', 'be', 'very', 'helpful', 'at', 'producing', 'a', 'first', 'draft', 'that', 'a', 'student', 'could', 'then', 'refine.', '”', 'He', 'argues', 'human-AI', 'collaboration', 'is', 'the', 'most', 'promising', 'use', 'case', 'for', 'ChatGPT', 'and', 'similar', 'technology.', '“', 'My', 'strong', 'hunch', 'is', 'that', 'AI', 'assistants', 'will', 'become', 'standard', 'tools', 'for', 'lawyers', 'in', 'the', 'near', 'future', ',', 'and', 'law', 'schools', 'should', 'prepare', 'their', 'students', 'for', 'that', 'eventuality', ',', '”', 'he', 'said', '.', '“', 'Of', 'course', ',', 'if', 'law', 'professors', 'want', 'to', 'continue', 'to', 'test', 'simple', 'recall', 'of', 'legal', 'rules', 'and', 'doctrines', ',', 'they', '’', 'll', 'need', 'to', 'put', 'restrictions', 'in', 'place', 'like', 'banning', 'the', 'internet', 'during', 'exams', 'to', 'enforce', 'that.', '”', 'Likewise', ',', 'Wharton', '’', 's', 'Terwiesch', 'found', 'the', 'chatbot', 'was', '“', 'remarkably', 'good', '”', 'at', 'modifying', 'its', 'answers', 'in', 'response', 'to', 'human', 'hints', ',', 'such', 'as', 'reworking', 'answers', 'after', 'pointing', 'out', 'an', 'error', ',', 'suggesting', 'the', 'potential', 'for', 'people', 'to', 'work', 'together', 'with', 'AI.scott', 'galloway', 'vpxScott', 'Galloway', 'on', 'the', \"'scarier\", 'part', \"'\", 'of', 'AI', 'tools', 'like', 'ChatGPT02:07', '-', 'Source', ':', 'CNNIn', 'the', 'short-term', ',', 'however', ',', 'discomfort', 'remains', 'with', 'whether', 'and', 'how', 'students', 'should', 'use', 'ChatGPT', '.', 'Public', 'schools', 'in', 'New', 'York', 'City', 'and', 'Seattle', ',', 'for', 'example', ',', 'have', 'already', 'banned', 'students', 'and', 'teachers', 'from', 'using', 'ChatGPT', 'on', 'the', 'district', '’', 's', 'networks', 'and', 'devices.Considering', 'ChatGPT', 'performed', 'above', 'average', 'on', 'his', 'exam', ',', 'Terwiesch', 'told', 'CNN', 'he', 'agrees', 'restrictions', 'should', 'be', 'put', 'in', 'place', 'for', 'students', 'while', 'they', '’', 're', 'taking', 'tests.', '“', 'Bans', 'are', 'needed', ',', '”', 'he', 'said', '.', '“', 'After', 'all', ',', 'when', 'you', 'give', 'a', 'medical', 'doctor', 'a', 'degree', ',', 'you', 'want', 'them', 'to', 'know', 'medicine', ',', 'not', 'how', 'to', 'use', 'a', 'bot', '.', 'The', 'same', 'holds', 'for', 'other', 'skill', 'certification', ',', 'including', 'law', 'and', 'business.', '”', 'But', 'Terwiesch', 'believes', 'this', 'technology', 'still', 'ultimately', 'has', 'a', 'place', 'in', 'the', 'classroom', '.', '“', 'If', 'all', 'we', 'end', 'up', 'with', 'is', 'the', 'same', 'educational', 'system', 'as', 'before', ',', 'we', 'have', 'wasted', 'an', 'amazing', 'opportunity', 'that', 'comes', 'with', 'ChatGPT', ',', '”', 'he', 'said', '.']\n"
     ]
    }
   ],
   "source": [
    "from nltk.tokenize import word_tokenize\n",
    "tokenized_word=word_tokenize(text)\n",
    "print(tokenized_word)"
   ]
  },
  {
   "cell_type": "code",
   "execution_count": 6,
   "id": "3183cc38",
   "metadata": {
    "ExecuteTime": {
     "end_time": "2023-01-30T19:21:13.193168Z",
     "start_time": "2023-01-30T19:21:13.178150Z"
    }
   },
   "outputs": [
    {
     "name": "stdout",
     "output_type": "stream",
     "text": [
      "831\n"
     ]
    }
   ],
   "source": [
    "print(len(tokenized_word))"
   ]
  },
  {
   "cell_type": "markdown",
   "id": "aaa431a6",
   "metadata": {},
   "source": [
    "### Word Frequency Distribution"
   ]
  },
  {
   "cell_type": "code",
   "execution_count": 7,
   "id": "63cb41fa",
   "metadata": {
    "ExecuteTime": {
     "end_time": "2023-01-30T19:21:13.209079Z",
     "start_time": "2023-01-30T19:21:13.195091Z"
    }
   },
   "outputs": [
    {
     "name": "stdout",
     "output_type": "stream",
     "text": [
      "<FreqDist with 393 samples and 831 outcomes>\n"
     ]
    }
   ],
   "source": [
    "from nltk.probability import FreqDist\n",
    "fdist = FreqDist(tokenized_word)\n",
    "print(fdist)"
   ]
  },
  {
   "cell_type": "code",
   "execution_count": 8,
   "id": "39490efb",
   "metadata": {
    "ExecuteTime": {
     "end_time": "2023-01-30T19:21:13.224991Z",
     "start_time": "2023-01-30T19:21:13.210048Z"
    }
   },
   "outputs": [
    {
     "data": {
      "text/plain": [
       "[(',', 40),\n",
       " ('the', 27),\n",
       " ('to', 26),\n",
       " ('and', 21),\n",
       " ('in', 16),\n",
       " ('of', 16),\n",
       " ('ChatGPT', 15),\n",
       " ('a', 14),\n",
       " ('.', 13),\n",
       " ('“', 11),\n",
       " ('”', 11),\n",
       " ('with', 10),\n",
       " ('at', 9),\n",
       " ('exams', 8),\n",
       " ('on', 8),\n",
       " ('for', 8),\n",
       " ('it', 8),\n",
       " ('law', 7),\n",
       " ('is', 7),\n",
       " ('’', 7)]"
      ]
     },
     "execution_count": 8,
     "metadata": {},
     "output_type": "execute_result"
    }
   ],
   "source": [
    "fdist.most_common(20)"
   ]
  },
  {
   "cell_type": "code",
   "execution_count": 9,
   "id": "7972ac90",
   "metadata": {
    "ExecuteTime": {
     "end_time": "2023-01-30T19:21:14.069679Z",
     "start_time": "2023-01-30T19:21:13.225988Z"
    }
   },
   "outputs": [
    {
     "data": {
      "image/png": "[encoded data removed]",
      "text/plain": [
       "<Figure size 432x288 with 1 Axes>"
      ]
     },
     "metadata": {
      "needs_background": "light"
     },
     "output_type": "display_data"
    }
   ],
   "source": [
    "# Frequency Distribution Plot\n",
    "import matplotlib.pyplot as plt\n",
    "fdist.plot(30,cumulative=False)\n",
    "plt.show()"
   ]
  },
  {
   "cell_type": "markdown",
   "id": "fb8ea5f2",
   "metadata": {},
   "source": [
    "## Exercise 1: Stopwords and Stemming\n",
    "\n",
    "Collect the stopwords and perform stemming to the set of data."
   ]
  },
  {
   "cell_type": "code",
   "execution_count": 10,
   "id": "f03d0f21",
   "metadata": {
    "ExecuteTime": {
     "end_time": "2023-01-30T19:21:14.084628Z",
     "start_time": "2023-01-30T19:21:14.072669Z"
    },
    "scrolled": true
   },
   "outputs": [
    {
     "name": "stdout",
     "output_type": "stream",
     "text": [
      "{'it', 'have', 'yourself', 'against', 'not', \"wouldn't\", 'up', 'nor', 'her', 'there', 'needn', 'doing', 'why', 'hasn', 'off', 'didn', 'with', 'from', 'has', 'he', \"that'll\", 'had', 'mustn', 'all', \"hasn't\", 'yourselves', 'while', 'after', 'other', 'their', 'each', 'wouldn', 'him', 'on', 'such', 'is', 'theirs', \"aren't\", \"mightn't\", 'ours', 'my', 'herself', \"you'll\", 'once', \"should've\", 'some', 'can', 'no', 'ain', \"don't\", 'aren', 've', 'below', 'an', 'me', 'your', 'again', \"won't\", 'these', 'doesn', 'won', 't', \"doesn't\", 'in', \"didn't\", 'too', 'ourselves', 'did', 'over', 'further', 'o', 'hers', 'them', \"shouldn't\", 'hadn', 'you', 'shan', 'if', 'until', \"mustn't\", \"shan't\", 'd', 'then', 'only', 'having', 'just', 'itself', 'ma', 'were', 'because', 'y', \"you'd\", 'which', 'do', 'his', 'yours', 'when', \"hadn't\", 'of', 'but', 'through', 'weren', 'are', \"you've\", 'to', 'than', 'they', 'those', 'haven', 'during', 'be', 'into', 'she', 'a', 'for', 'don', 'will', 'should', \"couldn't\", 'i', 'll', 'about', 's', 'm', 'wasn', 'now', 'how', 're', 'shouldn', 'more', 'isn', 'by', 'here', 'what', 'most', 'myself', 'its', 'couldn', 'and', \"wasn't\", 'at', 'same', \"weren't\", 'does', 'under', 'as', \"needn't\", 'any', \"isn't\", 'few', \"you're\", 'himself', 'or', 'so', 'both', 'where', 'very', 'above', 'own', 'we', 'being', 'am', 'down', 'that', 'themselves', 'mightn', 'our', \"haven't\", \"it's\", 'who', 'between', 'this', 'whom', 'before', 'was', 'been', 'the', 'out', \"she's\"}\n"
     ]
    }
   ],
   "source": [
    "# List all stopwords on this library\n",
    "\n",
    "from nltk.corpus import stopwords\n",
    "stop_words=set(stopwords.words(\"english\"))\n",
    "print(stop_words)"
   ]
  },
  {
   "cell_type": "code",
   "execution_count": 11,
   "id": "cb3c0466",
   "metadata": {
    "ExecuteTime": {
     "end_time": "2023-01-30T19:21:14.099647Z",
     "start_time": "2023-01-30T19:21:14.086622Z"
    }
   },
   "outputs": [
    {
     "name": "stdout",
     "output_type": "stream",
     "text": [
      "['!', '\"', '#', '$', '%', '&', \"'\", '(', ')', '*', '+', ',', '-', '.', '/', ':', ';', '<', '=', '>', '?', '@', '[', '\\\\', ']', '^', '_', '`', '{', '|', '}', '~']\n"
     ]
    }
   ],
   "source": [
    "# Using puntuation list to remove from words\n",
    "from string import punctuation\n",
    "\n",
    "punctuation = list(punctuation)\n",
    "print(punctuation)"
   ]
  },
  {
   "cell_type": "markdown",
   "id": "0b3e2e2a",
   "metadata": {},
   "source": [
    "### Removing Stopwords"
   ]
  },
  {
   "cell_type": "code",
   "execution_count": 12,
   "id": "c2cbd3fe",
   "metadata": {
    "ExecuteTime": {
     "end_time": "2023-01-30T19:21:14.115525Z",
     "start_time": "2023-01-30T19:21:14.101575Z"
    },
    "scrolled": false
   },
   "outputs": [
    {
     "name": "stdout",
     "output_type": "stream",
     "text": [
      "Tokenized Sentence:\n",
      " ['ChatGPT', 'passes', 'exams', 'from', 'law', 'and', 'business', 'schoolsChatGPT', 'is', 'smart', 'enough', 'to', 'pass', 'prestigious', 'graduate-level', 'exams', '--', 'though', 'not', 'with', 'particularly', 'high', 'marks.By', 'Samantha', 'Murphy', 'KellyUpdated', 'Jan.', '26', ',', '2023', '06:35', 'PMVer', 'originalCNN', '—', 'ChatGPT', 'is', 'smart', 'enough', 'to', 'pass', 'prestigious', 'graduate-level', 'exams', '–', 'though', 'not', 'with', 'particularly', 'high', 'marks.The', 'powerful', 'new', 'AI', 'chatbot', 'tool', 'recently', 'passed', 'law', 'exams', 'in', 'four', 'courses', 'at', 'the', 'University', 'of', 'Minnesota', 'and', 'another', 'exam', 'at', 'University', 'of', 'Pennsylvania', '’', 's', 'Wharton', 'School', 'of', 'Business', ',', 'according', 'to', 'professors', 'at', 'the', 'schools.To', 'test', 'how', 'well', 'ChatGPT', 'could', 'generate', 'answers', 'on', 'exams', 'for', 'the', 'four', 'courses', ',', 'professors', 'at', 'the', 'University', 'of', 'Minnesota', 'Law', 'School', 'recently', 'graded', 'the', 'tests', 'blindly', '.', 'After', 'completing', '95', 'multiple', 'choice', 'questions', 'and', '12', 'essay', 'questions', ',', 'the', 'bot', 'performed', 'on', 'average', 'at', 'the', 'level', 'of', 'a', 'C+', 'student', ',', 'achieving', 'a', 'low', 'but', 'passing', 'grade', 'in', 'all', 'four', 'courses.ChatGPT', 'fared', 'better', 'during', 'a', 'business', 'management', 'course', 'exam', 'at', 'Wharton', ',', 'where', 'it', 'earned', 'a', 'B', 'to', 'B-', 'grade', '.', 'In', 'a', 'paper', 'detailing', 'the', 'performance', ',', 'Christian', 'Terwiesch', ',', 'a', 'Wharton', 'business', 'professor', ',', 'said', 'ChatGPT', 'did', '“', 'an', 'amazing', 'job', '”', 'at', 'answering', 'basic', 'operations', 'management', 'and', 'process-analysis', 'questions', 'but', 'struggled', 'with', 'more', 'advanced', 'prompts', 'and', 'made', '“', 'surprising', 'mistakes', '”', 'with', 'basic', 'math.', '“', 'These', 'mistakes', 'can', 'be', 'massive', 'in', 'magnitude', ',', '”', 'he', 'wrote.The', 'test', 'results', 'come', 'as', 'a', 'growing', 'number', 'of', 'schools', 'and', 'teachers', 'express', 'concerns', 'about', 'the', 'immediate', 'impact', 'of', 'ChatGPT', 'on', 'students', 'and', 'their', 'ability', 'to', 'cheat', 'on', 'assignments', '.', 'Some', 'educators', 'are', 'now', 'moving', 'with', 'remarkable', 'speed', 'to', 'rethink', 'their', 'assignments', 'in', 'response', 'to', 'ChatGPT', ',', 'even', 'as', 'it', 'remains', 'unclear', 'how', 'widespread', 'use', 'is', 'of', 'the', 'tool', 'among', 'students', 'and', 'how', 'harmful', 'it', 'could', 'really', 'be', 'to', 'learning.Jake', 'AuchinclossCongressman', 'gives', 'speech', 'written', 'by', 'AI02:49', '-', 'Source', ':', 'CNNSince', 'it', 'was', 'made', 'available', 'in', 'late', 'November', ',', 'ChatGPT', 'has', 'been', 'used', 'to', 'generate', 'original', 'essays', ',', 'stories', 'and', 'song', 'lyrics', 'in', 'response', 'to', 'user', 'prompts', '.', 'It', 'has', 'drafted', 'research', 'paper', 'abstracts', 'that', 'fooled', 'some', 'scientists', '.', 'Some', 'CEOs', 'have', 'even', 'used', 'it', 'to', 'write', 'emails', 'or', 'do', 'accounting', 'work.ChatGPT', 'is', 'trained', 'on', 'vast', 'amounts', 'of', 'online', 'data', 'in', 'order', 'to', 'generate', 'responses', 'to', 'user', 'prompts', '.', 'While', 'it', 'has', 'gained', 'traction', 'among', 'users', ',', 'it', 'has', 'also', 'raised', 'some', 'concerns', ',', 'including', 'about', 'inaccuracies', 'and', 'its', 'potential', 'to', 'perpetuate', 'biases', 'and', 'spread', 'misinformation.Jon', 'Choi', ',', 'one', 'of', 'the', 'University', 'of', 'Minnesota', 'law', 'professors', ',', 'told', 'CNN', 'the', 'goal', 'of', 'the', 'tests', 'was', 'to', 'explore', 'ChatGPT', '’', 's', 'potential', 'to', 'assist', 'lawyers', 'in', 'their', 'practice', 'and', 'to', 'help', 'students', 'in', 'exams', ',', 'whether', 'or', 'not', 'it', '’', 's', 'permitted', 'by', 'their', 'professors', ',', 'because', 'the', 'questions', 'often', 'mimic', 'the', 'writing', 'lawyers', 'do', 'in', 'real', 'life.', '“', 'ChatGPT', 'struggled', 'with', 'the', 'most', 'classic', 'components', 'of', 'law', 'school', 'exams', ',', 'such', 'as', 'spotting', 'potential', 'legal', 'issues', 'and', 'deep', 'analysis', 'applying', 'legal', 'rules', 'to', 'the', 'facts', 'of', 'a', 'case', ',', '”', 'Choi', 'said', '.', '“', 'But', 'ChatGPT', 'could', 'be', 'very', 'helpful', 'at', 'producing', 'a', 'first', 'draft', 'that', 'a', 'student', 'could', 'then', 'refine.', '”', 'He', 'argues', 'human-AI', 'collaboration', 'is', 'the', 'most', 'promising', 'use', 'case', 'for', 'ChatGPT', 'and', 'similar', 'technology.', '“', 'My', 'strong', 'hunch', 'is', 'that', 'AI', 'assistants', 'will', 'become', 'standard', 'tools', 'for', 'lawyers', 'in', 'the', 'near', 'future', ',', 'and', 'law', 'schools', 'should', 'prepare', 'their', 'students', 'for', 'that', 'eventuality', ',', '”', 'he', 'said', '.', '“', 'Of', 'course', ',', 'if', 'law', 'professors', 'want', 'to', 'continue', 'to', 'test', 'simple', 'recall', 'of', 'legal', 'rules', 'and', 'doctrines', ',', 'they', '’', 'll', 'need', 'to', 'put', 'restrictions', 'in', 'place', 'like', 'banning', 'the', 'internet', 'during', 'exams', 'to', 'enforce', 'that.', '”', 'Likewise', ',', 'Wharton', '’', 's', 'Terwiesch', 'found', 'the', 'chatbot', 'was', '“', 'remarkably', 'good', '”', 'at', 'modifying', 'its', 'answers', 'in', 'response', 'to', 'human', 'hints', ',', 'such', 'as', 'reworking', 'answers', 'after', 'pointing', 'out', 'an', 'error', ',', 'suggesting', 'the', 'potential', 'for', 'people', 'to', 'work', 'together', 'with', 'AI.scott', 'galloway', 'vpxScott', 'Galloway', 'on', 'the', \"'scarier\", 'part', \"'\", 'of', 'AI', 'tools', 'like', 'ChatGPT02:07', '-', 'Source', ':', 'CNNIn', 'the', 'short-term', ',', 'however', ',', 'discomfort', 'remains', 'with', 'whether', 'and', 'how', 'students', 'should', 'use', 'ChatGPT', '.', 'Public', 'schools', 'in', 'New', 'York', 'City', 'and', 'Seattle', ',', 'for', 'example', ',', 'have', 'already', 'banned', 'students', 'and', 'teachers', 'from', 'using', 'ChatGPT', 'on', 'the', 'district', '’', 's', 'networks', 'and', 'devices.Considering', 'ChatGPT', 'performed', 'above', 'average', 'on', 'his', 'exam', ',', 'Terwiesch', 'told', 'CNN', 'he', 'agrees', 'restrictions', 'should', 'be', 'put', 'in', 'place', 'for', 'students', 'while', 'they', '’', 're', 'taking', 'tests.', '“', 'Bans', 'are', 'needed', ',', '”', 'he', 'said', '.', '“', 'After', 'all', ',', 'when', 'you', 'give', 'a', 'medical', 'doctor', 'a', 'degree', ',', 'you', 'want', 'them', 'to', 'know', 'medicine', ',', 'not', 'how', 'to', 'use', 'a', 'bot', '.', 'The', 'same', 'holds', 'for', 'other', 'skill', 'certification', ',', 'including', 'law', 'and', 'business.', '”', 'But', 'Terwiesch', 'believes', 'this', 'technology', 'still', 'ultimately', 'has', 'a', 'place', 'in', 'the', 'classroom', '.', '“', 'If', 'all', 'we', 'end', 'up', 'with', 'is', 'the', 'same', 'educational', 'system', 'as', 'before', ',', 'we', 'have', 'wasted', 'an', 'amazing', 'opportunity', 'that', 'comes', 'with', 'ChatGPT', ',', '”', 'he', 'said', '.']\n",
      "\n",
      "Filtered Sentence:\n",
      " ['ChatGPT', 'passes', 'exams', 'law', 'business', 'schoolsChatGPT', 'smart', 'enough', 'pass', 'prestigious', 'graduate-level', 'exams', '--', 'though', 'particularly', 'high', 'marks.By', 'Samantha', 'Murphy', 'KellyUpdated', 'Jan.', '26', '2023', '06:35', 'PMVer', 'originalCNN', '—', 'ChatGPT', 'smart', 'enough', 'pass', 'prestigious', 'graduate-level', 'exams', '–', 'though', 'particularly', 'high', 'marks.The', 'powerful', 'new', 'AI', 'chatbot', 'tool', 'recently', 'passed', 'law', 'exams', 'four', 'courses', 'University', 'Minnesota', 'another', 'exam', 'University', 'Pennsylvania', '’', 'Wharton', 'School', 'Business', 'according', 'professors', 'schools.To', 'test', 'well', 'ChatGPT', 'could', 'generate', 'answers', 'exams', 'four', 'courses', 'professors', 'University', 'Minnesota', 'Law', 'School', 'recently', 'graded', 'tests', 'blindly', 'After', 'completing', '95', 'multiple', 'choice', 'questions', '12', 'essay', 'questions', 'bot', 'performed', 'average', 'level', 'C+', 'student', 'achieving', 'low', 'passing', 'grade', 'four', 'courses.ChatGPT', 'fared', 'better', 'business', 'management', 'course', 'exam', 'Wharton', 'earned', 'B', 'B-', 'grade', 'In', 'paper', 'detailing', 'performance', 'Christian', 'Terwiesch', 'Wharton', 'business', 'professor', 'said', 'ChatGPT', '“', 'amazing', 'job', '”', 'answering', 'basic', 'operations', 'management', 'process-analysis', 'questions', 'struggled', 'advanced', 'prompts', 'made', '“', 'surprising', 'mistakes', '”', 'basic', 'math.', '“', 'These', 'mistakes', 'massive', 'magnitude', '”', 'wrote.The', 'test', 'results', 'come', 'growing', 'number', 'schools', 'teachers', 'express', 'concerns', 'immediate', 'impact', 'ChatGPT', 'students', 'ability', 'cheat', 'assignments', 'Some', 'educators', 'moving', 'remarkable', 'speed', 'rethink', 'assignments', 'response', 'ChatGPT', 'even', 'remains', 'unclear', 'widespread', 'use', 'tool', 'among', 'students', 'harmful', 'could', 'really', 'learning.Jake', 'AuchinclossCongressman', 'gives', 'speech', 'written', 'AI02:49', 'Source', 'CNNSince', 'made', 'available', 'late', 'November', 'ChatGPT', 'used', 'generate', 'original', 'essays', 'stories', 'song', 'lyrics', 'response', 'user', 'prompts', 'It', 'drafted', 'research', 'paper', 'abstracts', 'fooled', 'scientists', 'Some', 'CEOs', 'even', 'used', 'write', 'emails', 'accounting', 'work.ChatGPT', 'trained', 'vast', 'amounts', 'online', 'data', 'order', 'generate', 'responses', 'user', 'prompts', 'While', 'gained', 'traction', 'among', 'users', 'also', 'raised', 'concerns', 'including', 'inaccuracies', 'potential', 'perpetuate', 'biases', 'spread', 'misinformation.Jon', 'Choi', 'one', 'University', 'Minnesota', 'law', 'professors', 'told', 'CNN', 'goal', 'tests', 'explore', 'ChatGPT', '’', 'potential', 'assist', 'lawyers', 'practice', 'help', 'students', 'exams', 'whether', '’', 'permitted', 'professors', 'questions', 'often', 'mimic', 'writing', 'lawyers', 'real', 'life.', '“', 'ChatGPT', 'struggled', 'classic', 'components', 'law', 'school', 'exams', 'spotting', 'potential', 'legal', 'issues', 'deep', 'analysis', 'applying', 'legal', 'rules', 'facts', 'case', '”', 'Choi', 'said', '“', 'But', 'ChatGPT', 'could', 'helpful', 'producing', 'first', 'draft', 'student', 'could', 'refine.', '”', 'He', 'argues', 'human-AI', 'collaboration', 'promising', 'use', 'case', 'ChatGPT', 'similar', 'technology.', '“', 'My', 'strong', 'hunch', 'AI', 'assistants', 'become', 'standard', 'tools', 'lawyers', 'near', 'future', 'law', 'schools', 'prepare', 'students', 'eventuality', '”', 'said', '“', 'Of', 'course', 'law', 'professors', 'want', 'continue', 'test', 'simple', 'recall', 'legal', 'rules', 'doctrines', '’', 'need', 'put', 'restrictions', 'place', 'like', 'banning', 'internet', 'exams', 'enforce', 'that.', '”', 'Likewise', 'Wharton', '’', 'Terwiesch', 'found', 'chatbot', '“', 'remarkably', 'good', '”', 'modifying', 'answers', 'response', 'human', 'hints', 'reworking', 'answers', 'pointing', 'error', 'suggesting', 'potential', 'people', 'work', 'together', 'AI.scott', 'galloway', 'vpxScott', 'Galloway', \"'scarier\", 'part', 'AI', 'tools', 'like', 'ChatGPT02:07', 'Source', 'CNNIn', 'short-term', 'however', 'discomfort', 'remains', 'whether', 'students', 'use', 'ChatGPT', 'Public', 'schools', 'New', 'York', 'City', 'Seattle', 'example', 'already', 'banned', 'students', 'teachers', 'using', 'ChatGPT', 'district', '’', 'networks', 'devices.Considering', 'ChatGPT', 'performed', 'average', 'exam', 'Terwiesch', 'told', 'CNN', 'agrees', 'restrictions', 'put', 'place', 'students', '’', 'taking', 'tests.', '“', 'Bans', 'needed', '”', 'said', '“', 'After', 'give', 'medical', 'doctor', 'degree', 'want', 'know', 'medicine', 'use', 'bot', 'The', 'holds', 'skill', 'certification', 'including', 'law', 'business.', '”', 'But', 'Terwiesch', 'believes', 'technology', 'still', 'ultimately', 'place', 'classroom', '“', 'If', 'end', 'educational', 'system', 'wasted', 'amazing', 'opportunity', 'comes', 'ChatGPT', '”', 'said']\n"
     ]
    }
   ],
   "source": [
    "filtered_sent=[]\n",
    "for w in tokenized_word:\n",
    "    if w not in stop_words and w not in punctuation:\n",
    "        filtered_sent.append(w)\n",
    "print(\"Tokenized Sentence:\\n\",tokenized_word)\n",
    "print(\"\\nFiltered Sentence:\\n\",filtered_sent)"
   ]
  },
  {
   "cell_type": "code",
   "execution_count": 13,
   "id": "025597c1",
   "metadata": {
    "ExecuteTime": {
     "end_time": "2023-01-30T19:21:14.131471Z",
     "start_time": "2023-01-30T19:21:14.116522Z"
    }
   },
   "outputs": [
    {
     "name": "stdout",
     "output_type": "stream",
     "text": [
      "<FreqDist with 322 samples and 489 outcomes>\n"
     ]
    }
   ],
   "source": [
    "fdist_stopwords = FreqDist(filtered_sent)\n",
    "print(fdist_stopwords)"
   ]
  },
  {
   "cell_type": "code",
   "execution_count": 14,
   "id": "3534b451",
   "metadata": {
    "ExecuteTime": {
     "end_time": "2023-01-30T19:21:14.147429Z",
     "start_time": "2023-01-30T19:21:14.132468Z"
    },
    "scrolled": true
   },
   "outputs": [
    {
     "data": {
      "text/plain": [
       "[('ChatGPT', 15),\n",
       " ('“', 11),\n",
       " ('”', 11),\n",
       " ('exams', 8),\n",
       " ('law', 7),\n",
       " ('’', 7),\n",
       " ('students', 7),\n",
       " ('professors', 5),\n",
       " ('said', 5),\n",
       " ('University', 4),\n",
       " ('Wharton', 4),\n",
       " ('could', 4),\n",
       " ('questions', 4),\n",
       " ('Terwiesch', 4),\n",
       " ('use', 4),\n",
       " ('potential', 4),\n",
       " ('business', 3),\n",
       " ('AI', 3),\n",
       " ('four', 3),\n",
       " ('Minnesota', 3)]"
      ]
     },
     "execution_count": 14,
     "metadata": {},
     "output_type": "execute_result"
    }
   ],
   "source": [
    "fdist_stopwords.most_common(20)"
   ]
  },
  {
   "cell_type": "markdown",
   "id": "d3d5cbc8",
   "metadata": {},
   "source": [
    "### Stemming"
   ]
  },
  {
   "cell_type": "code",
   "execution_count": 15,
   "id": "7f17f06d",
   "metadata": {
    "ExecuteTime": {
     "end_time": "2023-01-30T19:21:14.162369Z",
     "start_time": "2023-01-30T19:21:14.148417Z"
    },
    "scrolled": true
   },
   "outputs": [
    {
     "name": "stdout",
     "output_type": "stream",
     "text": [
      "Filtered Sentence:\n",
      " ['ChatGPT', 'passes', 'exams', 'law', 'business', 'schoolsChatGPT', 'smart', 'enough', 'pass', 'prestigious', 'graduate-level', 'exams', '--', 'though', 'particularly', 'high', 'marks.By', 'Samantha', 'Murphy', 'KellyUpdated', 'Jan.', '26', '2023', '06:35', 'PMVer', 'originalCNN', '—', 'ChatGPT', 'smart', 'enough', 'pass', 'prestigious', 'graduate-level', 'exams', '–', 'though', 'particularly', 'high', 'marks.The', 'powerful', 'new', 'AI', 'chatbot', 'tool', 'recently', 'passed', 'law', 'exams', 'four', 'courses', 'University', 'Minnesota', 'another', 'exam', 'University', 'Pennsylvania', '’', 'Wharton', 'School', 'Business', 'according', 'professors', 'schools.To', 'test', 'well', 'ChatGPT', 'could', 'generate', 'answers', 'exams', 'four', 'courses', 'professors', 'University', 'Minnesota', 'Law', 'School', 'recently', 'graded', 'tests', 'blindly', 'After', 'completing', '95', 'multiple', 'choice', 'questions', '12', 'essay', 'questions', 'bot', 'performed', 'average', 'level', 'C+', 'student', 'achieving', 'low', 'passing', 'grade', 'four', 'courses.ChatGPT', 'fared', 'better', 'business', 'management', 'course', 'exam', 'Wharton', 'earned', 'B', 'B-', 'grade', 'In', 'paper', 'detailing', 'performance', 'Christian', 'Terwiesch', 'Wharton', 'business', 'professor', 'said', 'ChatGPT', '“', 'amazing', 'job', '”', 'answering', 'basic', 'operations', 'management', 'process-analysis', 'questions', 'struggled', 'advanced', 'prompts', 'made', '“', 'surprising', 'mistakes', '”', 'basic', 'math.', '“', 'These', 'mistakes', 'massive', 'magnitude', '”', 'wrote.The', 'test', 'results', 'come', 'growing', 'number', 'schools', 'teachers', 'express', 'concerns', 'immediate', 'impact', 'ChatGPT', 'students', 'ability', 'cheat', 'assignments', 'Some', 'educators', 'moving', 'remarkable', 'speed', 'rethink', 'assignments', 'response', 'ChatGPT', 'even', 'remains', 'unclear', 'widespread', 'use', 'tool', 'among', 'students', 'harmful', 'could', 'really', 'learning.Jake', 'AuchinclossCongressman', 'gives', 'speech', 'written', 'AI02:49', 'Source', 'CNNSince', 'made', 'available', 'late', 'November', 'ChatGPT', 'used', 'generate', 'original', 'essays', 'stories', 'song', 'lyrics', 'response', 'user', 'prompts', 'It', 'drafted', 'research', 'paper', 'abstracts', 'fooled', 'scientists', 'Some', 'CEOs', 'even', 'used', 'write', 'emails', 'accounting', 'work.ChatGPT', 'trained', 'vast', 'amounts', 'online', 'data', 'order', 'generate', 'responses', 'user', 'prompts', 'While', 'gained', 'traction', 'among', 'users', 'also', 'raised', 'concerns', 'including', 'inaccuracies', 'potential', 'perpetuate', 'biases', 'spread', 'misinformation.Jon', 'Choi', 'one', 'University', 'Minnesota', 'law', 'professors', 'told', 'CNN', 'goal', 'tests', 'explore', 'ChatGPT', '’', 'potential', 'assist', 'lawyers', 'practice', 'help', 'students', 'exams', 'whether', '’', 'permitted', 'professors', 'questions', 'often', 'mimic', 'writing', 'lawyers', 'real', 'life.', '“', 'ChatGPT', 'struggled', 'classic', 'components', 'law', 'school', 'exams', 'spotting', 'potential', 'legal', 'issues', 'deep', 'analysis', 'applying', 'legal', 'rules', 'facts', 'case', '”', 'Choi', 'said', '“', 'But', 'ChatGPT', 'could', 'helpful', 'producing', 'first', 'draft', 'student', 'could', 'refine.', '”', 'He', 'argues', 'human-AI', 'collaboration', 'promising', 'use', 'case', 'ChatGPT', 'similar', 'technology.', '“', 'My', 'strong', 'hunch', 'AI', 'assistants', 'become', 'standard', 'tools', 'lawyers', 'near', 'future', 'law', 'schools', 'prepare', 'students', 'eventuality', '”', 'said', '“', 'Of', 'course', 'law', 'professors', 'want', 'continue', 'test', 'simple', 'recall', 'legal', 'rules', 'doctrines', '’', 'need', 'put', 'restrictions', 'place', 'like', 'banning', 'internet', 'exams', 'enforce', 'that.', '”', 'Likewise', 'Wharton', '’', 'Terwiesch', 'found', 'chatbot', '“', 'remarkably', 'good', '”', 'modifying', 'answers', 'response', 'human', 'hints', 'reworking', 'answers', 'pointing', 'error', 'suggesting', 'potential', 'people', 'work', 'together', 'AI.scott', 'galloway', 'vpxScott', 'Galloway', \"'scarier\", 'part', 'AI', 'tools', 'like', 'ChatGPT02:07', 'Source', 'CNNIn', 'short-term', 'however', 'discomfort', 'remains', 'whether', 'students', 'use', 'ChatGPT', 'Public', 'schools', 'New', 'York', 'City', 'Seattle', 'example', 'already', 'banned', 'students', 'teachers', 'using', 'ChatGPT', 'district', '’', 'networks', 'devices.Considering', 'ChatGPT', 'performed', 'average', 'exam', 'Terwiesch', 'told', 'CNN', 'agrees', 'restrictions', 'put', 'place', 'students', '’', 'taking', 'tests.', '“', 'Bans', 'needed', '”', 'said', '“', 'After', 'give', 'medical', 'doctor', 'degree', 'want', 'know', 'medicine', 'use', 'bot', 'The', 'holds', 'skill', 'certification', 'including', 'law', 'business.', '”', 'But', 'Terwiesch', 'believes', 'technology', 'still', 'ultimately', 'place', 'classroom', '“', 'If', 'end', 'educational', 'system', 'wasted', 'amazing', 'opportunity', 'comes', 'ChatGPT', '”', 'said']\n",
      "\n",
      "Stemmed Sentence:\n",
      " ['chatgpt', 'pass', 'exam', 'law', 'busi', 'schoolschatgpt', 'smart', 'enough', 'pass', 'prestigi', 'graduate-level', 'exam', '--', 'though', 'particularli', 'high', 'marks.bi', 'samantha', 'murphi', 'kellyupd', 'jan.', '26', '2023', '06:35', 'pmver', 'originalcnn', '—', 'chatgpt', 'smart', 'enough', 'pass', 'prestigi', 'graduate-level', 'exam', '–', 'though', 'particularli', 'high', 'marks.th', 'power', 'new', 'ai', 'chatbot', 'tool', 'recent', 'pass', 'law', 'exam', 'four', 'cours', 'univers', 'minnesota', 'anoth', 'exam', 'univers', 'pennsylvania', '’', 'wharton', 'school', 'busi', 'accord', 'professor', 'schools.to', 'test', 'well', 'chatgpt', 'could', 'gener', 'answer', 'exam', 'four', 'cours', 'professor', 'univers', 'minnesota', 'law', 'school', 'recent', 'grade', 'test', 'blindli', 'after', 'complet', '95', 'multipl', 'choic', 'question', '12', 'essay', 'question', 'bot', 'perform', 'averag', 'level', 'c+', 'student', 'achiev', 'low', 'pass', 'grade', 'four', 'courses.chatgpt', 'fare', 'better', 'busi', 'manag', 'cours', 'exam', 'wharton', 'earn', 'b', 'b-', 'grade', 'in', 'paper', 'detail', 'perform', 'christian', 'terwiesch', 'wharton', 'busi', 'professor', 'said', 'chatgpt', '“', 'amaz', 'job', '”', 'answer', 'basic', 'oper', 'manag', 'process-analysi', 'question', 'struggl', 'advanc', 'prompt', 'made', '“', 'surpris', 'mistak', '”', 'basic', 'math.', '“', 'these', 'mistak', 'massiv', 'magnitud', '”', 'wrote.th', 'test', 'result', 'come', 'grow', 'number', 'school', 'teacher', 'express', 'concern', 'immedi', 'impact', 'chatgpt', 'student', 'abil', 'cheat', 'assign', 'some', 'educ', 'move', 'remark', 'speed', 'rethink', 'assign', 'respons', 'chatgpt', 'even', 'remain', 'unclear', 'widespread', 'use', 'tool', 'among', 'student', 'harm', 'could', 'realli', 'learning.jak', 'auchinclosscongressman', 'give', 'speech', 'written', 'ai02:49', 'sourc', 'cnnsinc', 'made', 'avail', 'late', 'novemb', 'chatgpt', 'use', 'gener', 'origin', 'essay', 'stori', 'song', 'lyric', 'respons', 'user', 'prompt', 'it', 'draft', 'research', 'paper', 'abstract', 'fool', 'scientist', 'some', 'ceo', 'even', 'use', 'write', 'email', 'account', 'work.chatgpt', 'train', 'vast', 'amount', 'onlin', 'data', 'order', 'gener', 'respons', 'user', 'prompt', 'while', 'gain', 'traction', 'among', 'user', 'also', 'rais', 'concern', 'includ', 'inaccuraci', 'potenti', 'perpetu', 'bias', 'spread', 'misinformation.jon', 'choi', 'one', 'univers', 'minnesota', 'law', 'professor', 'told', 'cnn', 'goal', 'test', 'explor', 'chatgpt', '’', 'potenti', 'assist', 'lawyer', 'practic', 'help', 'student', 'exam', 'whether', '’', 'permit', 'professor', 'question', 'often', 'mimic', 'write', 'lawyer', 'real', 'life.', '“', 'chatgpt', 'struggl', 'classic', 'compon', 'law', 'school', 'exam', 'spot', 'potenti', 'legal', 'issu', 'deep', 'analysi', 'appli', 'legal', 'rule', 'fact', 'case', '”', 'choi', 'said', '“', 'but', 'chatgpt', 'could', 'help', 'produc', 'first', 'draft', 'student', 'could', 'refine.', '”', 'he', 'argu', 'human-ai', 'collabor', 'promis', 'use', 'case', 'chatgpt', 'similar', 'technology.', '“', 'my', 'strong', 'hunch', 'ai', 'assist', 'becom', 'standard', 'tool', 'lawyer', 'near', 'futur', 'law', 'school', 'prepar', 'student', 'eventu', '”', 'said', '“', 'of', 'cours', 'law', 'professor', 'want', 'continu', 'test', 'simpl', 'recal', 'legal', 'rule', 'doctrin', '’', 'need', 'put', 'restrict', 'place', 'like', 'ban', 'internet', 'exam', 'enforc', 'that.', '”', 'likewis', 'wharton', '’', 'terwiesch', 'found', 'chatbot', '“', 'remark', 'good', '”', 'modifi', 'answer', 'respons', 'human', 'hint', 'rework', 'answer', 'point', 'error', 'suggest', 'potenti', 'peopl', 'work', 'togeth', 'ai.scott', 'galloway', 'vpxscott', 'galloway', \"'scarier\", 'part', 'ai', 'tool', 'like', 'chatgpt02:07', 'sourc', 'cnnin', 'short-term', 'howev', 'discomfort', 'remain', 'whether', 'student', 'use', 'chatgpt', 'public', 'school', 'new', 'york', 'citi', 'seattl', 'exampl', 'alreadi', 'ban', 'student', 'teacher', 'use', 'chatgpt', 'district', '’', 'network', 'devices.consid', 'chatgpt', 'perform', 'averag', 'exam', 'terwiesch', 'told', 'cnn', 'agre', 'restrict', 'put', 'place', 'student', '’', 'take', 'tests.', '“', 'ban', 'need', '”', 'said', '“', 'after', 'give', 'medic', 'doctor', 'degre', 'want', 'know', 'medicin', 'use', 'bot', 'the', 'hold', 'skill', 'certif', 'includ', 'law', 'business.', '”', 'but', 'terwiesch', 'believ', 'technolog', 'still', 'ultim', 'place', 'classroom', '“', 'if', 'end', 'educ', 'system', 'wast', 'amaz', 'opportun', 'come', 'chatgpt', '”', 'said']\n"
     ]
    }
   ],
   "source": [
    "# Stemming\n",
    "from nltk.stem import PorterStemmer\n",
    "from nltk.tokenize import sent_tokenize, word_tokenize\n",
    "\n",
    "ps = PorterStemmer()\n",
    "\n",
    "stemmed_words=[]\n",
    "for w in filtered_sent:\n",
    "    stemmed_words.append(ps.stem(w))\n",
    "\n",
    "print(\"Filtered Sentence:\\n\",filtered_sent)\n",
    "print(\"\\nStemmed Sentence:\\n\",stemmed_words)"
   ]
  },
  {
   "cell_type": "code",
   "execution_count": 16,
   "id": "dc529bf4",
   "metadata": {
    "ExecuteTime": {
     "end_time": "2023-01-30T19:21:14.177319Z",
     "start_time": "2023-01-30T19:21:14.163366Z"
    }
   },
   "outputs": [
    {
     "name": "stdout",
     "output_type": "stream",
     "text": [
      "<FreqDist with 288 samples and 489 outcomes>\n"
     ]
    }
   ],
   "source": [
    "stemmed = FreqDist(stemmed_words)\n",
    "print(stemmed)"
   ]
  },
  {
   "cell_type": "code",
   "execution_count": 17,
   "id": "37023bf3",
   "metadata": {
    "ExecuteTime": {
     "end_time": "2023-01-30T19:21:14.192268Z",
     "start_time": "2023-01-30T19:21:14.178318Z"
    },
    "scrolled": true
   },
   "outputs": [
    {
     "data": {
      "text/plain": [
       "[('chatgpt', 15),\n",
       " ('exam', 11),\n",
       " ('“', 11),\n",
       " ('”', 11),\n",
       " ('student', 9),\n",
       " ('law', 8),\n",
       " ('’', 7),\n",
       " ('use', 7),\n",
       " ('school', 6),\n",
       " ('professor', 6),\n",
       " ('pass', 5),\n",
       " ('test', 5),\n",
       " ('said', 5),\n",
       " ('busi', 4),\n",
       " ('tool', 4),\n",
       " ('cours', 4),\n",
       " ('univers', 4),\n",
       " ('wharton', 4),\n",
       " ('could', 4),\n",
       " ('answer', 4)]"
      ]
     },
     "execution_count": 17,
     "metadata": {},
     "output_type": "execute_result"
    }
   ],
   "source": [
    "stemmed.most_common(20)"
   ]
  },
  {
   "cell_type": "code",
   "execution_count": 18,
   "id": "4747d14c",
   "metadata": {
    "ExecuteTime": {
     "end_time": "2023-01-30T19:21:14.565546Z",
     "start_time": "2023-01-30T19:21:14.193267Z"
    }
   },
   "outputs": [
    {
     "data": {
      "image/png": "[encoded data removed]",
      "text/plain": [
       "<Figure size 1440x720 with 1 Axes>"
      ]
     },
     "metadata": {
      "needs_background": "light"
     },
     "output_type": "display_data"
    }
   ],
   "source": [
    "fig = plt.figure(figsize = (20,10))\n",
    "stemmed.plot(50,cumulative=False)\n",
    "plt.show()"
   ]
  },
  {
   "cell_type": "markdown",
   "id": "28ba6931",
   "metadata": {},
   "source": [
    "## Exercise 1: Sentiment Analysis\n",
    "    \n",
    "Perform sentiment analysis to the set of data"
   ]
  },
  {
   "cell_type": "markdown",
   "id": "61c3442d",
   "metadata": {},
   "source": [
    "### Using NLTK library"
   ]
  },
  {
   "cell_type": "code",
   "execution_count": 19,
   "id": "dcd830a6",
   "metadata": {
    "ExecuteTime": {
     "end_time": "2023-01-30T19:21:14.691448Z",
     "start_time": "2023-01-30T19:21:14.567538Z"
    }
   },
   "outputs": [
    {
     "name": "stderr",
     "output_type": "stream",
     "text": [
      "[nltk_data] Downloading package vader_lexicon to\n",
      "[nltk_data]     C:\\Users\\rafa\\AppData\\Roaming\\nltk_data...\n",
      "[nltk_data]   Package vader_lexicon is already up-to-date!\n"
     ]
    },
    {
     "data": {
      "text/plain": [
       "True"
      ]
     },
     "execution_count": 19,
     "metadata": {},
     "output_type": "execute_result"
    }
   ],
   "source": [
    "# Importing\n",
    "nltk.download('vader_lexicon')"
   ]
  },
  {
   "cell_type": "code",
   "execution_count": 20,
   "id": "8e73394b",
   "metadata": {
    "ExecuteTime": {
     "end_time": "2023-01-30T19:21:14.723257Z",
     "start_time": "2023-01-30T19:21:14.692359Z"
    }
   },
   "outputs": [
    {
     "data": {
      "text/plain": [
       "{'neg': 0.05, 'neu': 0.85, 'pos': 0.099, 'compound': 0.9872}"
      ]
     },
     "execution_count": 20,
     "metadata": {},
     "output_type": "execute_result"
    }
   ],
   "source": [
    "# Apply SentimentIntensityAnalyzer to text\n",
    "from nltk.sentiment.vader import SentimentIntensityAnalyzer\n",
    "analyser = SentimentIntensityAnalyzer()\n",
    "\n",
    "result = analyser.polarity_scores(text)\n",
    "result"
   ]
  },
  {
   "cell_type": "code",
   "execution_count": 21,
   "id": "edf66ff2",
   "metadata": {
    "ExecuteTime": {
     "end_time": "2023-01-30T19:21:14.785203Z",
     "start_time": "2023-01-30T19:21:14.724254Z"
    }
   },
   "outputs": [
    {
     "data": {
      "image/png": "[encoded data removed]",
      "text/plain": [
       "<Figure size 432x288 with 1 Axes>"
      ]
     },
     "metadata": {
      "needs_background": "light"
     },
     "output_type": "display_data"
    }
   ],
   "source": [
    "# Show results\n",
    "result = [result['neg'], result['neu'], result['pos']]\n",
    "\n",
    "fig, ax = plt.subplots()\n",
    "\n",
    "ax.bar(['Negative', 'Neutral', 'Positive'], result)\n",
    "ax.set_ylabel(\"Score\")\n",
    "ax.set_ylim(0, 1)\n",
    "\n",
    "plt.show()"
   ]
  },
  {
   "cell_type": "markdown",
   "id": "28f6d5f6",
   "metadata": {},
   "source": [
    "### Using Textblob library"
   ]
  },
  {
   "cell_type": "code",
   "execution_count": 22,
   "id": "ab5aad26",
   "metadata": {
    "ExecuteTime": {
     "end_time": "2023-01-30T19:21:17.741105Z",
     "start_time": "2023-01-30T19:21:14.786161Z"
    },
    "scrolled": false
   },
   "outputs": [
    {
     "name": "stdout",
     "output_type": "stream",
     "text": [
      "Requirement already satisfied: textblob in c:\\users\\rafa\\anaconda3\\lib\\site-packages (0.17.1)\n",
      "Requirement already satisfied: nltk>=3.1 in c:\\users\\rafa\\anaconda3\\lib\\site-packages (from textblob) (3.7)\n",
      "Requirement already satisfied: click in c:\\users\\rafa\\anaconda3\\lib\\site-packages (from nltk>=3.1->textblob) (8.0.4)\n",
      "Requirement already satisfied: regex>=2021.8.3 in c:\\users\\rafa\\anaconda3\\lib\\site-packages (from nltk>=3.1->textblob) (2022.3.15)\n",
      "Requirement already satisfied: tqdm in c:\\users\\rafa\\anaconda3\\lib\\site-packages (from nltk>=3.1->textblob) (4.64.0)\n",
      "Requirement already satisfied: joblib in c:\\users\\rafa\\anaconda3\\lib\\site-packages (from nltk>=3.1->textblob) (1.2.0)\n",
      "Requirement already satisfied: colorama in c:\\users\\rafa\\anaconda3\\lib\\site-packages (from click->nltk>=3.1->textblob) (0.4.4)\n"
     ]
    }
   ],
   "source": [
    "# Install library\n",
    "!pip install textblob"
   ]
  },
  {
   "cell_type": "code",
   "execution_count": 23,
   "id": "e3295d05",
   "metadata": {
    "ExecuteTime": {
     "end_time": "2023-01-30T19:21:17.818836Z",
     "start_time": "2023-01-30T19:21:17.742057Z"
    }
   },
   "outputs": [
    {
     "name": "stdout",
     "output_type": "stream",
     "text": [
      "0.13668634395907125\n",
      "Sentiment of the text in is: positive\n"
     ]
    }
   ],
   "source": [
    "# Define function in order to show polarity of text\n",
    "from textblob import TextBlob\n",
    "\n",
    "def sentiment_analysis(text):\n",
    "    analysis = TextBlob(text)\n",
    "    print(analysis.sentiment.polarity)\n",
    "    if analysis.sentiment.polarity > 0:\n",
    "        return 'positive'\n",
    "    elif analysis.sentiment.polarity == 0:\n",
    "        return 'neutral'\n",
    "    else:\n",
    "        return 'negative'\n",
    "\n",
    "sentiment = sentiment_analysis(text)\n",
    "print(f\"Sentiment of the text in is: {sentiment}\")"
   ]
  },
  {
   "cell_type": "markdown",
   "id": "fb4ba80c",
   "metadata": {},
   "source": [
    "### Comments on Sentiment Analysis"
   ]
  },
  {
   "cell_type": "markdown",
   "id": "90e97f4e",
   "metadata": {},
   "source": [
    "The results from sentiment analysis using nltk and textblob can differ because they use different algorithms and approaches.\n",
    "\n",
    "nltk uses a lexicon-based approach to analyze sentiment, which means it compares the words in a sentence to a pre-defined list of words with assigned sentiment scores. This approach can be limited in its accuracy, especially for complex sentences and non-standard language.\n",
    "\n",
    "textblob uses a machine learning-based approach to analyze sentiment, which involves training a classifier on a large corpus of data and using it to make predictions on new data. This approach can be more accurate, but it may also require more computational resources and data to train the classifier. The polarity of a text in TextBlob is a float value that ranges from -1 to 1, which represents the sentiment expressed in the text. A polarity of -1 indicates a strongly negative sentiment, a polarity of 0 indicates a neutral sentiment, and a polarity of 1 indicates a strongly positive sentiment.\n",
    "\n",
    "In general, the results from sentiment analysis using nltk and textblob can be similar, but it is not uncommon for them to differ. It's always a good idea to evaluate the results using multiple approaches and compare the accuracy of the results."
   ]
  }
 ],
 "metadata": {
  "kernelspec": {
   "display_name": "Python 3 (ipykernel)",
   "language": "python",
   "name": "python3"
  },
  "language_info": {
   "codemirror_mode": {
    "name": "ipython",
    "version": 3
   },
   "file_extension": ".py",
   "mimetype": "text/x-python",
   "name": "python",
   "nbconvert_exporter": "python",
   "pygments_lexer": "ipython3",
   "version": "3.9.12"
  },
  "latex_envs": {
   "LaTeX_envs_menu_present": true,
   "autoclose": false,
   "autocomplete": true,
   "bibliofile": "biblio.bib",
   "cite_by": "apalike",
   "current_citInitial": 1,
   "eqLabelWithNumbers": true,
   "eqNumInitial": 1,
   "hotkeys": {
    "equation": "Ctrl-E",
    "itemize": "Ctrl-I"
   },
   "labels_anchors": false,
   "latex_user_defs": false,
   "report_style_numbering": false,
   "user_envs_cfg": false
  },
  "nbTranslate": {
   "displayLangs": [
    "*"
   ],
   "hotkey": "alt-t",
   "langInMainMenu": true,
   "sourceLang": "en",
   "targetLang": "fr",
   "useGoogleTranslate": true
  },
  "toc": {
   "base_numbering": 1,
   "nav_menu": {},
   "number_sections": true,
   "sideBar": true,
   "skip_h1_title": true,
   "title_cell": "Table of Contents",
   "title_sidebar": "Contents",
   "toc_cell": false,
   "toc_position": {},
   "toc_section_display": true,
   "toc_window_display": true
  },
  "varInspector": {
   "cols": {
    "lenName": 16,
    "lenType": 16,
    "lenVar": 40
   },
   "kernels_config": {
    "python": {
     "delete_cmd_postfix": "",
     "delete_cmd_prefix": "del ",
     "library": "var_list.py",
     "varRefreshCmd": "print(var_dic_list())"
    },
    "r": {
     "delete_cmd_postfix": ") ",
     "delete_cmd_prefix": "rm(",
     "library": "var_list.r",
     "varRefreshCmd": "cat(var_dic_list()) "
    }
   },
   "types_to_exclude": [
    "module",
    "function",
    "builtin_function_or_method",
    "instance",
    "_Feature"
   ],
   "window_display": false
  }
 },
 "nbformat": 4,
 "nbformat_minor": 5
}
